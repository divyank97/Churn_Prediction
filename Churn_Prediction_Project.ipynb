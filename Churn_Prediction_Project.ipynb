{
  "cells": [
    {
      "cell_type": "markdown",
      "metadata": {
        "id": "CKGoJYYYeyiS"
      },
      "source": [
        "Importing Libraries"
      ]
    },
    {
      "cell_type": "code",
      "execution_count": null,
      "metadata": {
        "id": "UlStMw0dUmHW"
      },
      "outputs": [],
      "source": [
        "import numpy as np\n",
        "import pandas as pd\n",
        "from sklearn.preprocessing import StandardScaler\n",
        "from sklearn.model_selection import GridSearchCV\n",
        "from imblearn.over_sampling import SMOTE  # imblearn library can be installed using pip install imblearn\n",
        "from sklearn.ensemble import RandomForestClassifier\n",
        "from imblearn.pipeline import Pipeline\n",
        "from sklearn.svm import SVC"
      ]
    },
    {
      "cell_type": "code",
      "execution_count": null,
      "metadata": {
        "id": "TZrKkkLGU9g3",
        "colab": {
          "base_uri": "https://localhost:8080/"
        },
        "outputId": "0925db12-fa67-41a5-e0f5-098ea576b7b1"
      },
      "outputs": [
        {
          "output_type": "stream",
          "name": "stdout",
          "text": [
            "      Attrition_Flag  Customer_Age Gender  Dependent_count Education_Level  \\\n",
            "0  Existing Customer            45      M                3     High School   \n",
            "1  Existing Customer            49      F                5        Graduate   \n",
            "2  Existing Customer            51      M                3        Graduate   \n",
            "3  Existing Customer            40      M                3      Uneducated   \n",
            "4  Existing Customer            44      M                2        Graduate   \n",
            "\n",
            "  Marital_Status Income_Category Card_Category  Months_on_book  \\\n",
            "0        Married     $60K - $80K          Blue              39   \n",
            "1         Single  Less than $40K          Blue              44   \n",
            "2        Married    $80K - $120K          Blue              36   \n",
            "3        Married     $60K - $80K          Blue              21   \n",
            "4        Married     $40K - $60K          Blue              36   \n",
            "\n",
            "   Total_Relationship_Count  Months_Inactive  Contacts_Count  Credit_Limit  \\\n",
            "0                         5                1               3       12691.0   \n",
            "1                         6                1               2        8256.0   \n",
            "2                         4                1               0        3418.0   \n",
            "3                         5                1               0        4716.0   \n",
            "4                         3                1               2        4010.0   \n",
            "\n",
            "   Total_Revolving_Bal  Total_Trans_Amt  Total_Trans_Ct  \n",
            "0                  777             1144              42  \n",
            "1                  864             1291              33  \n",
            "2                    0             1887              20  \n",
            "3                    0              816              28  \n",
            "4                 1247             1088              24  \n"
          ]
        }
      ],
      "source": [
        "dataset = pd.read_csv(\"/content/drive/MyDrive/DBS/CustomerChurn.csv\")\n",
        "pd.set_option('display.max_columns', None) # to make sure you can see all the columns in output window\n",
        "print(dataset.head())"
      ]
    },
    {
      "cell_type": "code",
      "execution_count": null,
      "metadata": {
        "id": "K8vVw5hAVOwv",
        "colab": {
          "base_uri": "https://localhost:8080/"
        },
        "outputId": "d0b4cd08-4c5d-4cff-d907-6f7a1ae9fbf1"
      },
      "outputs": [
        {
          "output_type": "stream",
          "name": "stdout",
          "text": [
            "(6237, 16)\n"
          ]
        }
      ],
      "source": [
        "print(dataset.shape)"
      ]
    },
    {
      "cell_type": "code",
      "execution_count": null,
      "metadata": {
        "id": "kanpb42uVMiz",
        "colab": {
          "base_uri": "https://localhost:8080/"
        },
        "outputId": "a57f0565-38c3-4d1f-a838-d66a6765cc72"
      },
      "outputs": [
        {
          "output_type": "stream",
          "name": "stdout",
          "text": [
            "<class 'pandas.core.frame.DataFrame'>\n",
            "RangeIndex: 6237 entries, 0 to 6236\n",
            "Data columns (total 16 columns):\n",
            " #   Column                    Non-Null Count  Dtype  \n",
            "---  ------                    --------------  -----  \n",
            " 0   Attrition_Flag            6237 non-null   object \n",
            " 1   Customer_Age              6237 non-null   int64  \n",
            " 2   Gender                    6237 non-null   object \n",
            " 3   Dependent_count           6237 non-null   int64  \n",
            " 4   Education_Level           6237 non-null   object \n",
            " 5   Marital_Status            6237 non-null   object \n",
            " 6   Income_Category           6237 non-null   object \n",
            " 7   Card_Category             6237 non-null   object \n",
            " 8   Months_on_book            6237 non-null   int64  \n",
            " 9   Total_Relationship_Count  6237 non-null   int64  \n",
            " 10  Months_Inactive           6237 non-null   int64  \n",
            " 11  Contacts_Count            6237 non-null   int64  \n",
            " 12  Credit_Limit              6237 non-null   float64\n",
            " 13  Total_Revolving_Bal       6237 non-null   int64  \n",
            " 14  Total_Trans_Amt           6237 non-null   int64  \n",
            " 15  Total_Trans_Ct            6237 non-null   int64  \n",
            "dtypes: float64(1), int64(9), object(6)\n",
            "memory usage: 779.8+ KB\n",
            "None\n"
          ]
        }
      ],
      "source": [
        "print(dataset.info())"
      ]
    },
    {
      "cell_type": "code",
      "execution_count": null,
      "metadata": {
        "id": "qXwDJXs9VJUL",
        "colab": {
          "base_uri": "https://localhost:8080/"
        },
        "outputId": "93725e2f-5f27-4258-bdbc-82595ad0d7cb"
      },
      "outputs": [
        {
          "output_type": "stream",
          "name": "stdout",
          "text": [
            "       Customer_Age  Dependent_count  Months_on_book  \\\n",
            "count   6237.000000      6237.000000     6237.000000   \n",
            "mean      46.380952         2.331409       36.000962   \n",
            "std        8.047893         1.297106        7.980412   \n",
            "min       26.000000         0.000000       13.000000   \n",
            "25%       41.000000         1.000000       31.000000   \n",
            "50%       46.000000         2.000000       36.000000   \n",
            "75%       52.000000         3.000000       40.000000   \n",
            "max       73.000000         5.000000       56.000000   \n",
            "\n",
            "       Total_Relationship_Count  Months_Inactive  Contacts_Count  \\\n",
            "count               6237.000000      6237.000000     6237.000000   \n",
            "mean                   3.827641         2.342312        2.462402   \n",
            "std                    1.546049         0.999853        1.109643   \n",
            "min                    1.000000         0.000000        0.000000   \n",
            "25%                    3.000000         2.000000        2.000000   \n",
            "50%                    4.000000         2.000000        2.000000   \n",
            "75%                    5.000000         3.000000        3.000000   \n",
            "max                    6.000000         6.000000        6.000000   \n",
            "\n",
            "       Credit_Limit  Total_Revolving_Bal  Total_Trans_Amt  Total_Trans_Ct  \n",
            "count   6237.000000          6237.000000      6237.000000     6237.000000  \n",
            "mean    8474.209075          1170.792849      4412.084977       64.508578  \n",
            "std     9078.165850           810.392248      3499.842841       23.901158  \n",
            "min     1438.300000             0.000000       569.000000       10.000000  \n",
            "25%     2505.000000           495.000000      2075.000000       44.000000  \n",
            "50%     4307.000000          1285.000000      3825.000000       67.000000  \n",
            "75%    10741.000000          1781.000000      4748.000000       80.000000  \n",
            "max    34516.000000          2517.000000     17995.000000      134.000000  \n"
          ]
        }
      ],
      "source": [
        "print(dataset.describe())"
      ]
    },
    {
      "cell_type": "markdown",
      "metadata": {
        "id": "w5suIa7iWpyx"
      },
      "source": [
        "Creating Dummy Variable"
      ]
    },
    {
      "cell_type": "code",
      "execution_count": null,
      "metadata": {
        "id": "dbdwLzbLfeh6"
      },
      "outputs": [],
      "source": [
        "#dataset.drop(['Education_Level'], axis = 1)"
      ]
    },
    {
      "cell_type": "code",
      "execution_count": null,
      "metadata": {
        "colab": {
          "base_uri": "https://localhost:8080/"
        },
        "id": "cvQK1QBhg0Jv",
        "outputId": "0ba08b7c-94dc-4d9f-b4c0-277d6ce05fb8"
      },
      "outputs": [
        {
          "output_type": "execute_result",
          "data": {
            "text/plain": [
              "array(['High School', 'Graduate', 'Uneducated', 'Post-Graduate',\n",
              "       'Doctorate'], dtype=object)"
            ]
          },
          "metadata": {},
          "execution_count": 59
        }
      ],
      "source": [
        "dataset.Education_Level.unique()"
      ]
    },
    {
      "cell_type": "code",
      "execution_count": null,
      "metadata": {
        "id": "7Ik9CWjnVxze"
      },
      "outputs": [],
      "source": [
        "dataset['Attrition_Flag'] = dataset['Attrition_Flag'].map({'Existing Customer':0, 'Attrited Customer':1})\n",
        "dataset['Gender'] = dataset['Gender'].map({'M':1, 'F':0})\n",
        "#dataset['Marital_Status'] = dataset['Marital_Status'].map({'Single':2, 'Married':1, 'Divorced':0})\n",
        "dataset['Education_Level'] = dataset['Education_Level'].map({'High School':4, 'Graduate':3, 'Uneducated':2, 'Post-Graduate':1, 'Doctorate':0})\n",
        "dataset['Income_Category'] = dataset['Income_Category'].map({'Less than $40K':4, '$40K - $60K':3, '$60K - $80K':2, '$80K - $120K':1, '$120K +':0})\n",
        "dataset['Card_Category'] = dataset['Card_Category'].map({'Blue':3, 'Gold':2, 'Silver':1, 'Platinum':0})"
      ]
    },
    {
      "cell_type": "code",
      "execution_count": null,
      "metadata": {
        "colab": {
          "base_uri": "https://localhost:8080/"
        },
        "id": "b5fotIofbh51",
        "outputId": "2eaef318-1423-467b-e144-32eedda81365"
      },
      "outputs": [
        {
          "output_type": "stream",
          "name": "stdout",
          "text": [
            "<class 'pandas.core.frame.DataFrame'>\n",
            "RangeIndex: 6237 entries, 0 to 6236\n",
            "Data columns (total 16 columns):\n",
            " #   Column                    Non-Null Count  Dtype  \n",
            "---  ------                    --------------  -----  \n",
            " 0   Attrition_Flag            6237 non-null   int64  \n",
            " 1   Customer_Age              6237 non-null   int64  \n",
            " 2   Gender                    6237 non-null   int64  \n",
            " 3   Dependent_count           6237 non-null   int64  \n",
            " 4   Education_Level           6237 non-null   int64  \n",
            " 5   Marital_Status            6237 non-null   object \n",
            " 6   Income_Category           6237 non-null   int64  \n",
            " 7   Card_Category             6237 non-null   int64  \n",
            " 8   Months_on_book            6237 non-null   int64  \n",
            " 9   Total_Relationship_Count  6237 non-null   int64  \n",
            " 10  Months_Inactive           6237 non-null   int64  \n",
            " 11  Contacts_Count            6237 non-null   int64  \n",
            " 12  Credit_Limit              6237 non-null   float64\n",
            " 13  Total_Revolving_Bal       6237 non-null   int64  \n",
            " 14  Total_Trans_Amt           6237 non-null   int64  \n",
            " 15  Total_Trans_Ct            6237 non-null   int64  \n",
            "dtypes: float64(1), int64(14), object(1)\n",
            "memory usage: 779.8+ KB\n"
          ]
        }
      ],
      "source": [
        "dataset.info()"
      ]
    },
    {
      "cell_type": "code",
      "execution_count": null,
      "metadata": {
        "colab": {
          "base_uri": "https://localhost:8080/"
        },
        "id": "0HKEPY5kcftz",
        "outputId": "5f1cd835-433f-4842-c2d9-45c2eab0812b"
      },
      "outputs": [
        {
          "output_type": "stream",
          "name": "stdout",
          "text": [
            "<class 'pandas.core.frame.DataFrame'>\n",
            "RangeIndex: 6237 entries, 0 to 6236\n",
            "Data columns (total 16 columns):\n",
            " #   Column                    Non-Null Count  Dtype  \n",
            "---  ------                    --------------  -----  \n",
            " 0   Attrition_Flag            6237 non-null   int64  \n",
            " 1   Customer_Age              6237 non-null   int64  \n",
            " 2   Gender                    6237 non-null   int64  \n",
            " 3   Dependent_count           6237 non-null   int64  \n",
            " 4   Education_Level           6237 non-null   int64  \n",
            " 5   Marital_Status            6237 non-null   object \n",
            " 6   Income_Category           6237 non-null   int64  \n",
            " 7   Card_Category             6237 non-null   int64  \n",
            " 8   Months_on_book            6237 non-null   int64  \n",
            " 9   Total_Relationship_Count  6237 non-null   int64  \n",
            " 10  Months_Inactive           6237 non-null   int64  \n",
            " 11  Contacts_Count            6237 non-null   int64  \n",
            " 12  Credit_Limit              6237 non-null   float64\n",
            " 13  Total_Revolving_Bal       6237 non-null   int64  \n",
            " 14  Total_Trans_Amt           6237 non-null   int64  \n",
            " 15  Total_Trans_Ct            6237 non-null   int64  \n",
            "dtypes: float64(1), int64(14), object(1)\n",
            "memory usage: 779.8+ KB\n",
            "None\n"
          ]
        }
      ],
      "source": [
        "categorical_features = ['Marital_Status']\n",
        "final_data = pd.get_dummies(dataset, columns = categorical_features)\n",
        "print(dataset.info())"
      ]
    },
    {
      "cell_type": "code",
      "execution_count": null,
      "metadata": {
        "id": "kvQot7XDdzPV"
      },
      "outputs": [],
      "source": [
        "X = final_data.drop('Attrition_Flag', axis = 1) # taking all the independent variables except the attrition "
      ]
    },
    {
      "cell_type": "code",
      "execution_count": null,
      "metadata": {
        "id": "p7vvyfdyd9Gl"
      },
      "outputs": [],
      "source": [
        "Y = final_data['Attrition_Flag'] # taking the dependednt/target variable in Y"
      ]
    },
    {
      "cell_type": "code",
      "execution_count": null,
      "metadata": {
        "id": "U8C973bVhp3y"
      },
      "outputs": [],
      "source": [
        "# Normalizing numerical features so that each feature has mean 0 and variance 1\n",
        "feature_scaler = StandardScaler()\n",
        "X_scaled = feature_scaler.fit_transform(X)"
      ]
    },
    {
      "cell_type": "markdown",
      "metadata": {
        "id": "eHtgc37Wp8yH"
      },
      "source": [
        "TRAINING THE RFC MODEL"
      ]
    },
    {
      "cell_type": "code",
      "execution_count": null,
      "metadata": {
        "id": "zH4rK4UZij56"
      },
      "outputs": [],
      "source": [
        "# Implementing Random Forest Classifier\n",
        "# Tuning the random forest parameter 'n_estimators' and implementing cross-validation using Grid Search\n",
        "model = Pipeline([\n",
        "        ('balancing', SMOTE(random_state = 101)),\n",
        "        ('classification', RandomForestClassifier(criterion='entropy', max_features='auto', random_state=1) )\n",
        "    ])\n",
        "grid_param = {'classification__n_estimators': [10,20,30,40]}\n",
        "\n",
        "gd_sr = GridSearchCV(estimator=model, param_grid=grid_param, scoring='recall', cv=5)"
      ]
    },
    {
      "cell_type": "code",
      "execution_count": null,
      "metadata": {
        "colab": {
          "base_uri": "https://localhost:8080/"
        },
        "id": "a1-YTykPqjzp",
        "outputId": "cb46725f-0a3a-4f65-c58a-625c5a82f73c"
      },
      "outputs": [
        {
          "name": "stdout",
          "output_type": "stream",
          "text": [
            "{'classification__n_estimators': 50}\n",
            "0.6501657515798198\n",
            "Total_Trans_Ct              0.258847\n",
            "Total_Trans_Amt             0.181411\n",
            "Total_Revolving_Bal         0.149749\n",
            "Total_Relationship_Count    0.079236\n",
            "Months_Inactive             0.068103\n",
            "Contacts_Count              0.054320\n",
            "Credit_Limit                0.043135\n",
            "Customer_Age                0.038171\n",
            "Months_on_book              0.027682\n",
            "Dependent_count             0.026581\n",
            "Education_Level             0.024716\n",
            "Income_Category             0.022902\n",
            "Gender                      0.009353\n",
            "Marital_Status_Married      0.006082\n",
            "Marital_Status_Single       0.005195\n",
            "Card_Category               0.002915\n",
            "Marital_Status_Divorced     0.001602\n",
            "dtype: float64\n"
          ]
        }
      ],
      "source": [
        "gd_sr.fit(X_scaled, Y) # Fitting the model to scaled X column and Y column\n",
        "\n",
        "best_parameters = gd_sr.best_params_\n",
        "print(best_parameters)\n",
        "\n",
        "best_result = gd_sr.best_score_ # Mean cross-validated score of the best_estimator\n",
        "print(best_result)\n",
        "\n",
        "featimp = pd.Series(gd_sr.best_estimator_.named_steps[\"classification\"].feature_importances_, index=list(X)).sort_values(ascending=False) # Getting feature importances list for the best model\n",
        "print(featimp)"
      ]
    },
    {
      "cell_type": "code",
      "execution_count": null,
      "metadata": {
        "id": "YVKhqpJKqTkW"
      },
      "outputs": [],
      "source": [
        "#Selecting the best feature for feature selection\n",
        "X_ = dataset[['Total_Trans_Ct','Total_Trans_Amt','Total_Revolving_Bal','Total_Relationship_Count', 'Months_Inactive', 'Contacts_Count', 'Credit_Limit', 'Customer_Age', 'Months_on_book']]"
      ]
    },
    {
      "cell_type": "code",
      "execution_count": null,
      "metadata": {
        "id": "9-EJOPXkqdQq"
      },
      "outputs": [],
      "source": [
        "#Normalizing the data again after selecting the best featureset(Most efficient)\n",
        "feature_scaler = StandardScaler()\n",
        "X_scaled_ = feature_scaler.fit_transform(X_)"
      ]
    },
    {
      "cell_type": "code",
      "execution_count": null,
      "metadata": {
        "colab": {
          "base_uri": "https://localhost:8080/"
        },
        "id": "TLpFCIVloV0w",
        "outputId": "08abe128-26f3-41b2-b309-435c96fc6033"
      },
      "outputs": [
        {
          "name": "stdout",
          "output_type": "stream",
          "text": [
            "{'classification__n_estimators': 90}\n",
            "0.6735937014399668\n"
          ]
        }
      ],
      "source": [
        "#Tuning the random forest parameter 'n_estimators' and implementing cross-validation using Grid Search\n",
        "model = Pipeline([\n",
        "        ('balancing', SMOTE(random_state = 101)),\n",
        "        ('classification', RandomForestClassifier(criterion='entropy', max_features='auto', random_state=1) )\n",
        "    ])\n",
        "grid_param = {'classification__n_estimators': [50,70,90,110,130,150,170,190]}\n",
        "\n",
        "gd_sr = GridSearchCV(estimator=model, param_grid=grid_param, scoring='recall', cv=5)\n",
        "\n",
        "\"\"\"\n",
        "In the above GridSearchCV(), scoring parameter should be set as follows:\n",
        "scoring = 'accuracy' when you want to maximize prediction accuracy\n",
        "scoring = 'recall' when you want to minimize false negatives\n",
        "scoring = 'precision' when you want to minimize false positives\n",
        "scoring = 'f1' when you want to balance false positives and false negatives (place equal emphasis on minimizing both)\n",
        "\"\"\"\n",
        "\n",
        "gd_sr.fit(X_scaled_, Y)\n",
        "\n",
        "best_parameters = gd_sr.best_params_\n",
        "print(best_parameters)\n",
        "\n",
        "best_result = gd_sr.best_score_ # Mean cross-validated score of the best_estimator\n",
        "print(best_result)"
      ]
    },
    {
      "cell_type": "markdown",
      "metadata": {
        "id": "cWBX-041qIT9"
      },
      "source": [
        "TRAINING AND FITTING THE Support Vector Classification Model"
      ]
    },
    {
      "cell_type": "code",
      "execution_count": null,
      "metadata": {
        "colab": {
          "base_uri": "https://localhost:8080/"
        },
        "id": "b3bnNxJZodR7",
        "outputId": "78a1219f-4f97-400f-ca3b-7c06dff9b860"
      },
      "outputs": [
        {
          "output_type": "stream",
          "name": "stdout",
          "text": [
            "{'classification__C': 0.001, 'classification__kernel': 'sigmoid'}\n",
            "0.8449290376048897\n"
          ]
        }
      ],
      "source": [
        "model = Pipeline([\n",
        "         ('balancing', SMOTE(random_state = 101)),\n",
        "         ('classification', SVC(random_state=1) )\n",
        "     ])\n",
        "grid_param = {'classification__kernel': ['linear','poly','rbf','sigmoid'], 'classification__C': [.001,.01,.1,1,10,100]}\n",
        "\n",
        "gd_sr = GridSearchCV(estimator=model, param_grid=grid_param, scoring='recall', cv=5)\n",
        "\n",
        "\"\"\"\n",
        "# In the above GridSearchCV(), scoring parameter should be set as follows:\n",
        "# scoring = 'accuracy' when you want to maximize prediction accuracy\n",
        "# scoring = 'recall' when you want to minimize false negatives\n",
        "# scoring = 'precision' when you want to minimize false positives\n",
        "# scoring = 'f1' when you want to balance false positives and false negatives (place equal emphasis on minimizing both)\n",
        "# \"\"\"\n",
        "\n",
        "gd_sr.fit(X_scaled, Y)\n",
        "\n",
        "best_parameters = gd_sr.best_params_\n",
        "print(best_parameters)\n",
        "\n",
        "best_result = gd_sr.best_score_ # Mean cross-validated score of the best_estimator\n",
        "print(best_result)"
      ]
    }
  ],
  "metadata": {
    "colab": {
      "provenance": []
    },
    "kernelspec": {
      "display_name": "Python 3",
      "name": "python3"
    },
    "language_info": {
      "name": "python"
    }
  },
  "nbformat": 4,
  "nbformat_minor": 0
}